{
 "cells": [
  {
   "cell_type": "markdown",
   "metadata": {},
   "source": [
    "## Lesson 5~6. Baseball Stats, Advertisement, NYC Subway\n",
    "### - Statistics (normal distribution, t-test, non-parametric test)\n",
    "### - Machine Learning (gradient descent, linear regression)"
   ]
  },
  {
   "cell_type": "code",
   "execution_count": 1,
   "metadata": {},
   "outputs": [
    {
     "name": "stdout",
     "output_type": "stream",
     "text": [
      "(False, (-9.9357022262420944, 3.8102742258887383e-23))\n"
     ]
    }
   ],
   "source": [
    "# perform t-test on two-sample data\n",
    "\n",
    "import scipy.stats\n",
    "import numpy as np\n",
    "import pandas as pd\n",
    "\n",
    "def compare_averages(filename):\n",
    "    df = pd.read_csv(filename)\n",
    "    list_r_avg = df[df['handedness'] == 'R']['avg']\n",
    "    list_l_avg = df[df['handedness'] == 'L']['avg']\n",
    "    \n",
    "    ttest = scipy.stats.ttest_ind(list_r_avg, list_l_avg, equal_var = False)\n",
    "    result = True if ttest.pvalue > 0.05 else False\n",
    "    \n",
    "    return (result, (ttest.statistic, ttest.pvalue))\n",
    "        \n",
    "ttest_result = compare_averages('./Data/baseball_stats.csv')\n",
    "print(ttest_result)"
   ]
  },
  {
   "cell_type": "code",
   "execution_count": 2,
   "metadata": {},
   "outputs": [
    {
     "name": "stdout",
     "output_type": "stream",
     "text": [
      "(False, (1313522.5, 8.7272888940254155e-09))\n"
     ]
    }
   ],
   "source": [
    "# non-parametric test (Mann-Whitney)\n",
    "\n",
    "def mann_whitney(filename):\n",
    "    df = pd.read_csv('./Data/baseball_stats.csv')\n",
    "    list_r_HR = df[(df['handedness'] == 'R') & df['HR'] != 0]['HR']\n",
    "    list_l_HR = df[(df['handedness'] == 'L') & df['HR'] != 0]['HR']\n",
    "\n",
    "    u, p = scipy.stats.mannwhitneyu(list_r_HR, list_l_HR)\n",
    "    result = True if p > 0.05 else False\n",
    "    \n",
    "    return result, (u, p)\n",
    "\n",
    "mann_whitney_result = mann_whitney('./Data/baseball_stats.csv')\n",
    "print(mann_whitney_result)"
   ]
  },
  {
   "cell_type": "code",
   "execution_count": 3,
   "metadata": {},
   "outputs": [
    {
     "name": "stdout",
     "output_type": "stream",
     "text": [
      "theta:\n",
      " [[ 0.05379188]\n",
      " [ 0.22222727]\n",
      " [ 0.01681641]] \n",
      "cost_history:\n",
      " [111.858125, 59.575421344307763, 34.015407841229688, 21.498380104560354, 15.347756787607715, 12.30492938222265, 10.779479238184338, 9.9951713677308156, 9.5731447086175976, 9.3284822676722339]\n",
      "value:  22.1 / prediction:  [ 21.9413976]\n",
      "R-squared:  Sales    0.850652\n",
      "dtype: float64\n"
     ]
    }
   ],
   "source": [
    "# gradient descent & r-squared\n",
    "\n",
    "def compute_cost(features, values, theta):\n",
    "    m = len(values)\n",
    "    sum_of_square_errors = np.square(np.dot(features, theta) - values).sum()\n",
    "    cost = sum_of_square_errors/(2*m)\n",
    "\n",
    "    return cost[0]\n",
    "\n",
    "def gradient_descent(features, values, theta, alpha):\n",
    "    m = len(values)\n",
    "    cost_history = []\n",
    "    cost_present = compute_cost(features, values, theta)\n",
    "    cost_history.append(cost_present)\n",
    "    \n",
    "    while(True):\n",
    "        h = np.dot(features, theta)\n",
    "        theta = theta - alpha/m * np.dot(np.transpose(features), (h - values))\n",
    "        cost_updated = compute_cost(features, values, theta)\n",
    "        cost_history.append(cost_updated)\n",
    "        \n",
    "        if cost_present <= cost_updated:\n",
    "            break\n",
    "        else:\n",
    "            cost_present = cost_updated\n",
    "        \n",
    "    return theta, cost_history\n",
    "\n",
    "def prediction_model(features, values, theta):\n",
    "    pred = np.dot(features, theta)\n",
    "    resi = values - pred\n",
    "    \n",
    "    return pred, resi\n",
    "\n",
    "def compute_r_squared(values, resi):\n",
    "    sum_of_squared_resi = np.square(resi).sum()\n",
    "    sum_of_squared_mean = np.square(values - np.mean(values)).sum()\n",
    "    r_squared = 1 - (sum_of_squared_resi/sum_of_squared_mean)\n",
    "\n",
    "    return r_squared \n",
    "\n",
    "df = pd.read_csv('./Data/Advertising.csv')\n",
    "\n",
    "features = df[['TV', 'Radio', 'Newspaper']]\n",
    "values = df[['Sales']]\n",
    "theta_0 = np.zeros(shape=(3, 1))\n",
    "\n",
    "theta, cost_history = gradient_descent(features, values, theta_0, 0.00001)\n",
    "print(\"theta:\\n\", theta, \"\\ncost_history:\\n\", cost_history[:10])\n",
    "\n",
    "pred, resi = prediction_model(features, values, theta)\n",
    "print(\"value: \", values['Sales'][0], \"/ prediction: \", pred[0])\n",
    "\n",
    "r_squared = compute_r_squared(values, resi)\n",
    "print(\"R-squared: \", r_squared)"
   ]
  },
  {
   "cell_type": "markdown",
   "metadata": {},
   "source": [
    "### - Problem Set. NYC Subway Weather 2"
   ]
  },
  {
   "cell_type": "code",
   "execution_count": 29,
   "metadata": {},
   "outputs": [
    {
     "data": {
      "image/png": "[encoded data removed]",
      "text/plain": [
       "<matplotlib.figure.Figure at 0x1c109aad748>"
      ]
     },
     "metadata": {},
     "output_type": "display_data"
    }
   ],
   "source": [
    "# quiz 1, 2 - histogram of rainy day vs. not rainy day\n",
    "\n",
    "master_df = pd.read_csv('./Data/turnstile_data_master_with_weather.csv') # to be used for all quizzes\n",
    "\n",
    "import numpy as np\n",
    "import pandas\n",
    "import matplotlib.pyplot as plt\n",
    "\n",
    "def entries_histogram(turnstile_weather):\n",
    "    plt.figure()\n",
    "    plt.axis([0, 6000, 0, 45000])\n",
    "    turnstile_weather[turnstile_weather['rain'] == 0]['ENTRIESn_hourly'].hist(color = 'blue', bins = 180,\n",
    "                                                                             label = \"No Rain\")\n",
    "    turnstile_weather[turnstile_weather['rain'] == 1]['ENTRIESn_hourly'].hist(color = 'green', bins = 180,\n",
    "                                                                             label = \"Rain\")\n",
    "    plt.title(\"Histogram of Hourly Entries\")\n",
    "    plt.xlabel(\"Hourly Entries\")\n",
    "    plt.legend(loc = \"upper right\", shadow = True)\n",
    "    \n",
    "    return plt\n",
    "    \n",
    "hist = entries_histogram(master_df)\n",
    "hist.show()"
   ]
  },
  {
   "cell_type": "code",
   "execution_count": 34,
   "metadata": {},
   "outputs": [
    {
     "name": "stdout",
     "output_type": "stream",
     "text": [
      "\n"
     ]
    }
   ],
   "source": [
    "# quiz 2 - interpret the histogram\n",
    "\n",
    "# Can Welch's T test be used? -> No.\n",
    "# We can't because this is not normally distributed. \n",
    "# In other words, the distribution is not bell-shaped, that is, it is not symmetric."
   ]
  },
  {
   "cell_type": "code",
   "execution_count": 33,
   "metadata": {},
   "outputs": [
    {
     "name": "stdout",
     "output_type": "stream",
     "text": [
      "Mean on rainy days:  1105.4463767458733 \n",
      "Mean on not rainy days:  1090.278780151855 \n",
      "Mann-Whitney:  1924409167.0 / P-value:  0.0249403922945\n"
     ]
    }
   ],
   "source": [
    "# quiz 3 - find mean, Mann-Whitney\n",
    "\n",
    "def mann_whitney_mean(turnstile_weather):\n",
    "    list_rain = turnstile_weather[turnstile_weather['rain'] == 1]['ENTRIESn_hourly']\n",
    "    list_no_rain = turnstile_weather[turnstile_weather['rain'] == 0]['ENTRIESn_hourly']\n",
    "    \n",
    "    with_rain_mean = np.mean(list_rain)\n",
    "    without_rain_mean = np.mean(list_no_rain)\n",
    "    U, p = scipy.stats.mannwhitneyu(list_rain, list_no_rain)\n",
    "    \n",
    "    return with_rain_mean, without_rain_mean, U, p\n",
    "\n",
    "result = mann_whitney_mean(master_df)\n",
    "print(\"Mean on rainy days: \", result[0], \"\\nMean on not rainy days: \", result[1], \n",
    "      \"\\nMann-Whitney: \", result[2], \"/ P-value: \", result[3])"
   ]
  },
  {
   "cell_type": "code",
   "execution_count": 35,
   "metadata": {
    "collapsed": true
   },
   "outputs": [],
   "source": [
    "# quiz 4 - interpret the result\n",
    "\n",
    "# Are the two distribution statistically different? -> Yes.\n",
    "# As we found that the distribution is not normally distributed, we needed to use some non-parametric method.\n",
    "# One of which is Mann-Whitney. The result was 0.025 of p-value which is less than 0.05 to claim its significance.\n",
    "# Therefore, we can say that the two distributions are different.\n",
    "# In the context, people used the subway less on rainy days, according to the entry data."
   ]
  },
  {
   "cell_type": "code",
   "execution_count": 67,
   "metadata": {},
   "outputs": [
    {
     "data": {
      "image/png": "[encoded data removed]",
      "text/plain": [
       "<matplotlib.figure.Figure at 0x1c10b734518>"
      ]
     },
     "metadata": {},
     "output_type": "display_data"
    },
    {
     "name": "stdout",
     "output_type": "stream",
     "text": [
      "<ggplot: (120539762489)>\n"
     ]
    }
   ],
   "source": [
    "# quiz 5 - conduct and plot gradient descent\n",
    "\n",
    "from ggplot import *\n",
    "\n",
    "def normalize_features(df):\n",
    "    mu = df.mean()\n",
    "    sigma = df.std()\n",
    "    \n",
    "    if (sigma == 0).any():\n",
    "        raise Exception(\"One or more features had the same value for all samples, and thus could \" + \\\n",
    "                        \"not be normalized. Please do not include features with only a single value \" + \\\n",
    "                        \"in your model.\")\n",
    "    df_normalized = (df - df.mean()) / df.std()\n",
    "\n",
    "    return df_normalized, mu, sigma\n",
    "\n",
    "def compute_cost(features, values, theta):\n",
    "    m = len(values)\n",
    "    sum_of_square_errors = np.square(np.dot(features, theta) - values).sum()\n",
    "    cost = sum_of_square_errors/(2*m)\n",
    "\n",
    "    return cost\n",
    "\n",
    "def gradient_descent(features, values, theta, alpha, num_iterations):\n",
    "    m = len(values)\n",
    "    cost_history = []\n",
    "\n",
    "    for i in range(num_iterations):\n",
    "        h = np.dot(features, theta)\n",
    "        theta = theta - alpha/m * np.dot((h - values), features)\n",
    "        \n",
    "        cost_updated = compute_cost(features, values, theta)\n",
    "        cost_history.append(cost_updated)\n",
    "        \n",
    "    return theta, pandas.Series(cost_history)\n",
    "\n",
    "def predictions(dataframe):\n",
    "    features = dataframe[['rain', 'precipi', 'Hour', 'EXITSn_hourly']]\n",
    "    \n",
    "    dummy_units = pandas.get_dummies(dataframe['UNIT'], prefix='unit')\n",
    "    features = features.join(dummy_units)\n",
    "    \n",
    "    values = dataframe['ENTRIESn_hourly']\n",
    "    m = len(values)\n",
    "\n",
    "    features, mu, sigma = normalize_features(features)\n",
    "    features['ones'] = np.ones(m) # y intercept\n",
    "    \n",
    "    features_array = np.array(features)\n",
    "    values_array = np.array(values)\n",
    "\n",
    "    alpha = 0.05\n",
    "    num_iterations = 100\n",
    "\n",
    "    theta_gradient_descent = np.zeros(len(features.columns))\n",
    "    theta_gradient_descent, cost_history = gradient_descent(features_array, \n",
    "                                                            values_array, \n",
    "                                                            theta_gradient_descent, \n",
    "                                                            alpha, \n",
    "                                                            num_iterations)\n",
    "    \n",
    "    plot = plot_cost_history(alpha, cost_history)\n",
    "    predictions = np.dot(features_array, theta_gradient_descent)\n",
    "    \n",
    "    return predictions, plot\n",
    "\n",
    "def plot_cost_history(alpha, cost_history):\n",
    "   cost_df = pandas.DataFrame({\n",
    "      'Cost_History': cost_history,\n",
    "      'Iteration': range(len(cost_history))\n",
    "   })\n",
    "\n",
    "   return ggplot(cost_df, aes('Iteration', 'Cost_History')) + \\\n",
    "      geom_point() + ggtitle('Cost History for alpha = %.3f' % alpha)\n",
    "    \n",
    "predictions, plot = predictions(master_df)\n",
    "\n",
    "print(plot)"
   ]
  },
  {
   "cell_type": "code",
   "execution_count": 65,
   "metadata": {},
   "outputs": [
    {
     "data": {
      "image/png": "[encoded data removed]",
      "text/plain": [
       "<matplotlib.figure.Figure at 0x1c10a14fa20>"
      ]
     },
     "metadata": {},
     "output_type": "display_data"
    }
   ],
   "source": [
    "# quiz 6 - plot residuals\n",
    "\n",
    "def plot_residuals(turnstile_weather, predictions):\n",
    "    plt.figure()\n",
    "    (turnstile_weather['ENTRIESn_hourly'] - predictions).hist(bins = 100)\n",
    "    plt.title(\"Histogram of Residuals\")\n",
    "    plt.xlabel(\"Difference between actual and predicted values\")\n",
    "    \n",
    "    return plt\n",
    "\n",
    "residuals = plot_residuals(master_df, predictions) # data from quiz 5\n",
    "residuals.show()"
   ]
  },
  {
   "cell_type": "code",
   "execution_count": 84,
   "metadata": {},
   "outputs": [
    {
     "name": "stdout",
     "output_type": "stream",
     "text": [
      "R-squared:  0.620631194172\n"
     ]
    }
   ],
   "source": [
    "# quiz 7 - r square\n",
    "\n",
    "def compute_r_squared(data, predictions):\n",
    "    sum_of_squared_resi = np.square(data - predictions).sum()\n",
    "    sum_of_squared_mean = np.square(data - np.mean(data)).sum()\n",
    "    r_squared = 1 - (sum_of_squared_resi/sum_of_squared_mean)\n",
    "    \n",
    "    return r_squared\n",
    "\n",
    "print(\"R-squared: \", compute_r_squared(master_df['ENTRIESn_hourly'], predictions)) # data from quiz 5"
   ]
  },
  {
   "cell_type": "code",
   "execution_count": 85,
   "metadata": {},
   "outputs": [
    {
     "data": {
      "image/png": "[encoded data removed]",
      "text/plain": [
       "<matplotlib.figure.Figure at 0x1c10bc56c18>"
      ]
     },
     "metadata": {},
     "output_type": "display_data"
    },
    {
     "name": "stdout",
     "output_type": "stream",
     "text": [
      "R-squared:  0.557325902881\n"
     ]
    }
   ],
   "source": [
    "# quiz 8 - another regression model\n",
    "\n",
    "import statsmodels.api as sm\n",
    "\n",
    "def predictions_OLS(weather_turnstile):\n",
    "    Y = weather_turnstile['ENTRIESn_hourly']\n",
    "    X = weather_turnstile[['rain', 'precipi', 'Hour', 'EXITSn_hourly']]\n",
    "    X = sm.add_constant(X)\n",
    "    \n",
    "    model = sm.OLS(Y, X)\n",
    "    results = model.fit()\n",
    "    predictions = results.predict()\n",
    "    \n",
    "    return predictions\n",
    "\n",
    "predictions_OLS = predictions_OLS(master_df)\n",
    "\n",
    "residuals_OLS = plot_residuals(master_df, predictions_OLS) # data from quiz 5\n",
    "residuals_OLS.show()\n",
    "\n",
    "print(\"R-squared: \", compute_r_squared(master_df['ENTRIESn_hourly'], predictions_OLS)) # function from quiz 5"
   ]
  }
 ],
 "metadata": {
  "kernelspec": {
   "display_name": "Python 3",
   "language": "python",
   "name": "python3"
  },
  "language_info": {
   "codemirror_mode": {
    "name": "ipython",
    "version": 3
   },
   "file_extension": ".py",
   "mimetype": "text/x-python",
   "name": "python",
   "nbconvert_exporter": "python",
   "pygments_lexer": "ipython3",
   "version": "3.6.2"
  }
 },
 "nbformat": 4,
 "nbformat_minor": 2
}
